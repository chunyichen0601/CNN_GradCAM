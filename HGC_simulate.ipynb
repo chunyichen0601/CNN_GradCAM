{
 "cells": [
  {
   "cell_type": "markdown",
   "metadata": {},
   "source": [
    "# Simulate image"
   ]
  },
  {
   "cell_type": "markdown",
   "metadata": {},
   "source": [
    "## Import package"
   ]
  },
  {
   "cell_type": "code",
   "execution_count": null,
   "metadata": {},
   "outputs": [],
   "source": [
    "import numpy as np\n",
    "import pandas as pd\n",
    "import scipy\n",
    "import random\n",
    "from scipy.stats import poisson,uniform\n",
    "import matplotlib.pyplot as plt\n",
    "from PIL import Image as im\n",
    "import tensorflow as tf\n",
    "from tensorflow import keras"
   ]
  },
  {
   "attachments": {},
   "cell_type": "markdown",
   "metadata": {},
   "source": [
    "## Setting"
   ]
  },
  {
   "cell_type": "code",
   "execution_count": null,
   "metadata": {},
   "outputs": [],
   "source": [
    "kernel_value = np.array([3, 3])\n",
    "image_size = np.array([10, 10])"
   ]
  },
  {
   "attachments": {},
   "cell_type": "markdown",
   "metadata": {},
   "source": [
    "## Definition "
   ]
  },
  {
   "cell_type": "code",
   "execution_count": null,
   "metadata": {},
   "outputs": [],
   "source": [
    "def Simulate_Image(n, img_h=10, img_w=10, pat_shape=np.ones((3,3))):\n",
    "    Pat_h = pat_shape.shape[0]; Pat_w = pat_shape.shape[1] \n",
    "    W = np.random.random((n, img_h, img_w))\n",
    "    Y_num = np.random.poisson(lam = 0.72, size = n)\n",
    "    for i in np.arange(n) :\n",
    "        if Y_num[i] > 0 :\n",
    "            Y_i = np.random.choice(np.arange(img_h-Pat_h+1), Y_num[i]).astype(int)   \n",
    "            Y_j = np.random.choice(np.arange(img_h-Pat_w+1), Y_num[i]).astype(int)\n",
    "            for k in np.arange(Y_num[i]) :\n",
    "                r_p = pat_shape * random.uniform(0,1)\n",
    "                W[i, Y_i[k]:Y_i[k]+3, Y_j[k]:Y_j[k]+3] = r_p\n",
    "            else :\n",
    "                None\n",
    "                \n",
    "    categorized_list = np.empty((0, 0))\n",
    "    for num in Y_num:\n",
    "        if num > 0:\n",
    "            categorized_list = np.append(categorized_list, 1)\n",
    "        else:\n",
    "            categorized_list = np.append(categorized_list, 0)\n",
    "\n",
    "    L = {'image' : W, 'label' : categorized_list}\n",
    "    return(L)"
   ]
  },
  {
   "cell_type": "markdown",
   "metadata": {},
   "source": [
    "## Model training "
   ]
  },
  {
   "cell_type": "code",
   "execution_count": null,
   "metadata": {},
   "outputs": [],
   "source": [
    "Acc_matrix = np.zeros(100)\n",
    "pattern = np.matrix([[1,0,0], [1,1,0] ,[1,1,1]])\n",
    "\n",
    " \n",
    "model = tf.keras.Sequential([\n",
    "tf.keras.layers.Conv2D(64, (3, 3), activation='relu', input_shape=(10, 10, 1)),\n",
    "tf.keras.layers.MaxPooling2D((2, 2)),\n",
    "# tf.keras.layers.Conv2D(64, (3, 3), activation='relu', input_shape=(10, 10, 1)),\n",
    "# tf.keras.layers.MaxPooling2D((2, 2)),\n",
    "tf.keras.layers.Flatten(),\n",
    "tf.keras.layers.Dense(2)\n",
    "])\n",
    "\n",
    "model.compile(optimizer='adam',\n",
    "            loss=tf.keras.losses.SparseCategoricalCrossentropy(from_logits=True),\n",
    "            metrics=['accuracy'])\n",
    "\n",
    "train, test = Simulate_Image(1000, pat_shape = pattern), Simulate_Image(500, pat_shape = pattern)\n",
    "train_images, train_labels = train['image'], train['label']\n",
    "test_images, test_labels = test['image'], test['label'] \n",
    "\n",
    "history = model.fit(train_images, train_labels, epochs=10, \n",
    "                    validation_data=(test_images, test_labels),\n",
    "                    verbose = 0)\n",
    "\n",
    "test_loss, test_acc = model.evaluate(test_images,  test_labels, verbose=2)\n",
    "    "
   ]
  },
  {
   "attachments": {},
   "cell_type": "markdown",
   "metadata": {},
   "source": [
    "# HeatMap"
   ]
  },
  {
   "cell_type": "code",
   "execution_count": null,
   "metadata": {},
   "outputs": [],
   "source": [
    "def make_gradcam_heatmap(img_array, model, last_conv_layer_name, pred_index=None):\n",
    "    grad_model = keras.models.Model(\n",
    "        model.inputs, [model.get_layer(last_conv_layer_name).output, model.output]\n",
    "    )\n",
    "\n",
    "    with tf.GradientTape() as tape:\n",
    "        last_conv_layer_output, preds = grad_model(img_array)\n",
    "        if pred_index is None:\n",
    "            pred_index = tf.argmax(preds[0])\n",
    "        class_channel = preds[:, pred_index]\n",
    "\n",
    "    grads = tape.gradient(class_channel, last_conv_layer_output)\n",
    "\n",
    "    pooled_grads = tf.reduce_mean(grads, axis=(1,2))\n",
    "\n",
    "    last_conv_layer_output = last_conv_layer_output[0]\n",
    "    heatmap = last_conv_layer_output @ pooled_grads[..., tf.newaxis]\n",
    "    heatmap = tf.squeeze(heatmap)\n",
    "\n",
    "    heatmap = tf.maximum(heatmap, 0) / tf.math.reduce_max(heatmap)\n",
    "    return heatmap.numpy()"
   ]
  },
  {
   "cell_type": "code",
   "execution_count": null,
   "metadata": {},
   "outputs": [],
   "source": [
    "\n",
    "test_labels_pos = np.where(test_labels[test_labels == 1])\n",
    "test_labels_select = np.random.choice(test_labels_pos[0], 1)\n",
    "\n",
    "model.layers[-1].activation = None\n",
    "last_conv_layer_name = \"conv_1\"\n",
    "# Generate class activation heatmap\n",
    "heatmap = make_gradcam_heatmap(np.expand_dims(train_images[test_labels_select,:,:], axis=3), \n",
    "                            model, \n",
    "                            last_conv_layer_name)\n",
    "\n",
    "# print(train_images[test_labels_select,:,:].round(2))\n",
    "\n",
    "plt.gray()\n",
    "plt.imshow(train_images[int(test_labels_select),:,:], cmap='gray', interpolation='none')\n",
    "plt.xticks([])\n",
    "plt.yticks([])\n",
    "plt.matshow(heatmap)\n",
    "plt.xticks([])\n",
    "plt.yticks([])\n",
    "plt.show()"
   ]
  }
 ],
 "metadata": {
  "kernelspec": {
   "display_name": "Python 3",
   "language": "python",
   "name": "python3"
  },
  "language_info": {
   "codemirror_mode": {
    "name": "ipython",
    "version": 3
   },
   "file_extension": ".py",
   "mimetype": "text/x-python",
   "name": "python",
   "nbconvert_exporter": "python",
   "pygments_lexer": "ipython3",
   "version": "3.9.10"
  },
  "orig_nbformat": 4
 },
 "nbformat": 4,
 "nbformat_minor": 2
}
